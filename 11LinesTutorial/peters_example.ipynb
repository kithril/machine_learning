{
 "cells": [
  {
   "cell_type": "code",
   "execution_count": 7,
   "metadata": {
    "collapsed": false
   },
   "outputs": [
    {
     "name": "stdout",
     "output_type": "stream",
     "text": [
      "Output After Training \n",
      "L1\n",
      "[[  9.99999943e-001]\n",
      " [  1.00000000e+000]\n",
      " [  1.00000000e+000]\n",
      " [  5.11810400e-049]\n",
      " [  7.74586135e-153]]\n",
      "Last Syn0\n",
      "[[ 1.16777005]\n",
      " [ 2.48258733]\n",
      " [ 1.72310991]]\n",
      "Last Dot Product\n",
      "[[  16.67573676]\n",
      " [ 111.85503618]\n",
      " [  47.69167087]\n",
      " [-111.1938855 ]\n",
      " [-350.24836055]]\n",
      "Prediction - hoping for 12\n",
      "L1\n",
      "[[ 1.]]\n",
      "Dot Product\n",
      "[[ 135.01493321]]\n"
     ]
    }
   ],
   "source": [
    "import numpy as np\n",
    " \n",
    "# sigmoid function\n",
    "def nonlin(x,deriv=False):\n",
    "    if(deriv==True):\n",
    "        return x*(1-x)\n",
    "    return 1/(1+np.exp(-x))\n",
    "   \n",
    "# input dataset\n",
    "# The pattern is - doulbe the first column other columns are irrelevant\n",
    "X = np.array([  [2,3,4],\n",
    "                [3,2,60],\n",
    "                [4,9,12],\n",
    "                [4,-55,12],\n",
    "                [5,87,-332] ])\n",
    "   \n",
    "# output dataset           \n",
    "y = np.array([[4,6,8,8,10]]).T\n",
    " \n",
    "# seed random numbers to make calculation\n",
    "# deterministic (just a good practice)\n",
    "np.random.seed(1)\n",
    " \n",
    "# initialize weights randomly with mean 0\n",
    "syn0 = 2*np.random.random((3,1)) - 1\n",
    " \n",
    "for iter in range(200000):\n",
    "    # forward propagation\n",
    "    l0 = X\n",
    "    dotProd = np.dot(l0,syn0)\n",
    "    l1 = nonlin(dotProd)\n",
    " \n",
    "    # how much did we miss?\n",
    "    l1_error = y - l1\n",
    " \n",
    "    # multiply how much we missed by the\n",
    "    # slope of the sigmoid at the values in l1\n",
    "    l1_delta = l1_error * nonlin(l1,True)\n",
    " \n",
    "    # update weights\n",
    "    syn0 += np.dot(l0.T,l1_delta)\n",
    " \n",
    "print (\"Output After Training \")\n",
    "print (\"L1\")\n",
    "print (l1)\n",
    "print (\"Last Syn0\")\n",
    "print (syn0)\n",
    "print (\"Last Dot Product\")\n",
    "print (dotProd)\n",
    "print (\"Prediction - hoping for 12\")\n",
    "l0 = np.array([[6,12,57]])\n",
    "dotProd = np.dot(l0,syn0)\n",
    "l1 = nonlin(dotProd)\n",
    "print (\"L1\")\n",
    "print (l1)\n",
    "print (\"Dot Product\")\n",
    "print (dotProd)\n",
    " "
   ]
  },
  {
   "cell_type": "code",
   "execution_count": null,
   "metadata": {
    "collapsed": true
   },
   "outputs": [],
   "source": []
  }
 ],
 "metadata": {
  "anaconda-cloud": {
   "summary": "Peter Grooby's Numpy Example"
  },
  "kernelspec": {
   "display_name": "Python [conda root]",
   "language": "python",
   "name": "conda-root-py"
  },
  "language_info": {
   "codemirror_mode": {
    "name": "ipython",
    "version": 3
   },
   "file_extension": ".py",
   "mimetype": "text/x-python",
   "name": "python",
   "nbconvert_exporter": "python",
   "pygments_lexer": "ipython3",
   "version": "3.5.2"
  }
 },
 "nbformat": 4,
 "nbformat_minor": 1
}
