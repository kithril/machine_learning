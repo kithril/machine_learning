{
 "cells": [
  {
   "cell_type": "code",
   "execution_count": 3,
   "metadata": {
    "collapsed": false
   },
   "outputs": [
    {
     "name": "stdout",
     "output_type": "stream",
     "text": [
      "Epoch 0: 6262 / 10000\n",
      "Epoch 1: 7070 / 10000\n",
      "Epoch 2: 7997 / 10000\n",
      "Epoch 3: 8144 / 10000\n",
      "Epoch 4: 8212 / 10000\n",
      "Epoch 5: 8260 / 10000\n",
      "Epoch 6: 8909 / 10000\n",
      "Epoch 7: 9047 / 10000\n",
      "Epoch 8: 9079 / 10000\n",
      "Epoch 9: 9118 / 10000\n",
      "Epoch 10: 9162 / 10000\n",
      "Epoch 11: 9164 / 10000\n",
      "Epoch 12: 9198 / 10000\n",
      "Epoch 13: 9208 / 10000\n",
      "Epoch 14: 9219 / 10000\n",
      "Epoch 15: 9227 / 10000\n",
      "Epoch 16: 9241 / 10000\n",
      "Epoch 17: 9270 / 10000\n",
      "Epoch 18: 9269 / 10000\n",
      "Epoch 19: 9284 / 10000\n",
      "Epoch 20: 9286 / 10000\n",
      "Epoch 21: 9297 / 10000\n",
      "Epoch 22: 9296 / 10000\n",
      "Epoch 23: 9306 / 10000\n",
      "Epoch 24: 9315 / 10000\n",
      "Epoch 25: 9320 / 10000\n",
      "Epoch 26: 9319 / 10000\n",
      "Epoch 27: 9335 / 10000\n",
      "Epoch 28: 9335 / 10000\n",
      "Epoch 29: 9337 / 10000\n"
     ]
    }
   ],
   "source": [
    "# %load stochastic_gradient_descent_30_100_3.py\n",
    "import mnist_loader\n",
    "training_data, validation_data, test_data = mnist_loader.load_data_wrapper()\n",
    "\n",
    "import network\n",
    "net = network.Network([784, 30, 10])\n",
    "\n",
    "net.SGD(training_data, 30, 100, 3.0, test_data=test_data)\n",
    "\n"
   ]
  },
  {
   "cell_type": "code",
   "execution_count": null,
   "metadata": {
    "collapsed": true
   },
   "outputs": [],
   "source": []
  }
 ],
 "metadata": {
  "anaconda-cloud": {},
  "kernelspec": {
   "display_name": "Python [conda root]",
   "language": "python",
   "name": "conda-root-py"
  },
  "language_info": {
   "codemirror_mode": {
    "name": "ipython",
    "version": 3
   },
   "file_extension": ".py",
   "mimetype": "text/x-python",
   "name": "python",
   "nbconvert_exporter": "python",
   "pygments_lexer": "ipython3",
   "version": "3.5.2"
  }
 },
 "nbformat": 4,
 "nbformat_minor": 1
}
